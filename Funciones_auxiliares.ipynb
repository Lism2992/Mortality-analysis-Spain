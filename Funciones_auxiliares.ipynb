{
 "cells": [
  {
   "cell_type": "markdown",
   "metadata": {},
   "source": [
    "## b) Dos funciones auxiliares\n",
    "\n",
    "- b.1) Una primera función convertirá un número romano en un entero.\n",
    "\n",
    "- b.2) Una segunda función que nos diga qué líneas hacen referencia a categorías agrupadas de causas de muerte.\n"
   ]
  },
  {
   "cell_type": "markdown",
   "metadata": {},
   "source": [
    "### b.1) Conversor de dígitos romanos a enteros árabes."
   ]
  },
  {
   "cell_type": "markdown",
   "metadata": {},
   "source": [
    "Definimos nuestra función:"
   ]
  },
  {
   "cell_type": "code",
   "execution_count": 12,
   "metadata": {},
   "outputs": [],
   "source": [
    "def romano_a_entero(num):\n",
    "    \n",
    "    \"\"\"\n",
    "    Función que transforma string interpretados como números romanos a números enteros desde el 1 hasta el 1000.\n",
    "        \n",
    "    Parameters\n",
    "    ----------\n",
    "    num : string\n",
    "        String que representa un número romano.\n",
    "    \n",
    "    Returns\n",
    "    -------\n",
    "    valor: int\n",
    "        Equivalente entero al número romano.\n",
    "    string\n",
    "        Si el número introducido no es un numeral romano nos lo indicará.\n",
    "    \n",
    "    \n",
    "    Example\n",
    "    -------\n",
    "    >>> romano_a_entero(\"IV\")\n",
    "    4\n",
    "    >>> romano_a_entero(\"CXXIX\")\n",
    "    129\n",
    "    \"\"\"\n",
    "\n",
    "    # Definimos un diccionario con los dígitos romanos. Observar que como tienen una lógica aditiva y sustractiva, \n",
    "    # es más útil definir los que provienen de lógica sustractiva por separado en el rango 1(I)-1000(M)\n",
    "    \n",
    "    romanos = {'IV':4,'IX':9,'XL':40,'XC':90,'CD':400,'CM':900, 'I':1,'V':5,'X':10,'L':50,'C':100,'D':500,'M':1000}\n",
    "    \n",
    "    # Inicializamos algunas variables:\n",
    "    \n",
    "    i = 0\n",
    "    valor = 0\n",
    "    \n",
    "    # Lanzamos un bucle de lectura, obsérvese el proceso, lee bloques de 2 en dos y determina si ese bloque está en \n",
    "    # nuestro diccionario de dígitos, en caso de que lo esté, lo interpreta con el valor indicado por el diccionario\n",
    "    # y lo añade al valor acumulado previo y continúa con la lectura del string en el valor posterior a ese dígito.\n",
    "    # Si no lo está, coge únicamente el primero de ellos, lo interpreta, lo añade y continúa desde el siguiente a ese.\n",
    "    \n",
    "    # En caso de que un valor de entrada no sea un dígito romano, nos devuelve un mensaje que nos lo indica.\n",
    "    \n",
    "    while i < len(num):\n",
    "        if num[i:i+2] in romanos:\n",
    "            valor = valor + romanos[num[i:i+2]]\n",
    "            i = i+2\n",
    "            \n",
    "        else:\n",
    "            if num[i] in romanos:\n",
    "                valor = valor + romanos[num[i]]\n",
    "                i = i+1\n",
    "            else:\n",
    "                return(\"El valor a interpretar no es un número romano\")\n",
    "            \n",
    "    return(valor)"
   ]
  },
  {
   "cell_type": "markdown",
   "metadata": {},
   "source": [
    "Podemos probar nuestra función con alguna colección de valores:"
   ]
  },
  {
   "cell_type": "code",
   "execution_count": 20,
   "metadata": {},
   "outputs": [
    {
     "name": "stdout",
     "output_type": "stream",
     "text": [
      "[('I', 1), ('IV', 4), ('XIV', 14), ('XXXIX', 39), ('VL', 55), ('LXIV', 64), ('MCDXCII', 1492), ('XXG', 'El valor a interpretar no es romano')]\n"
     ]
    }
   ],
   "source": [
    "print([(r, romano_a_entero(r)) \\\n",
    "      for r in [\"I\", \"IV\", \"XIV\", \"XXXIX\", \"VL\", \"LXIV\", \"MCDXCII\", \"XXG\"]])"
   ]
  },
  {
   "cell_type": "markdown",
   "metadata": {},
   "source": [
    "### b.2) Detector de categorías de muertes agrupadas."
   ]
  },
  {
   "cell_type": "markdown",
   "metadata": {},
   "source": [
    "Las condiciones que debe cumplir nuestra función son las siguientes:"
   ]
  },
  {
   "cell_type": "markdown",
   "metadata": {},
   "source": [
    "Estas líneas empiezan por tres  dígitos, seguidos por un guion y otros tres dígitos:\n",
    "\n",
    "        001-008 I.Enfermedades infecciosas y parasitarias Hombres De 65 a 69 años 2001 305\n",
    "\n",
    "También hay algunas líneas que totalizan **todas** las causas:\n",
    "\n",
    "        001-102 I-XXII.Todas las causas Mujeres De 10 a 14 años 1983 308\n",
    "\n",
    "Nos interesan las primeras, pero no las segundas.\n",
    "\n",
    "La función debe detectar filas cuyo valor en la columna \"Causa de muerte\" cumpla las siguiente condiciones:\n",
    "\n",
    "        - Empieza por tres dígitos, seguidos por un guion y otros tres dígitos.\n",
    "        - No totaliza **todas** las causas de fallecimiento.\n",
    "        \n",
    "Algunas de las categorías de muertes figuran de la siguiente manera:\n",
    "\n",
    "        082  XVI.Afecciones originadas en el periodo perinatal\n",
    "        \n",
    "Estas categorías no cumplen las condiciones previas y, por lo tanto, no serán incluidas. En apartados posteriores del proyecto se nos pide incluirlas para la elaboración de cierto diccionario por lo que se utilizará una modificación de esta misma función de comprobación. \n",
    "\n",
    "Utilizaremos funciones regulares del paquete \"re\" para hacer estas comprobaciones.\n",
    "\n",
    "Vamos allá:"
   ]
  },
  {
   "cell_type": "code",
   "execution_count": 17,
   "metadata": {},
   "outputs": [],
   "source": [
    "import re\n",
    "\n",
    "def es_grupo_y_no_total(causa):\n",
    "    \n",
    "    \"\"\"\n",
    "    Función que comprueba si un determinado string cumple las siguientes condiciones:\n",
    "    \n",
    "       - Empieza por tres dígitos, seguidos por un guion y otros tres dígitos.\n",
    "       - No totaliza **todas** las causas de fallecimiento.\n",
    "    \n",
    "    Que quedan sintetizadas en las varaibles \"patron\" y \"patron2\" definidas durante la función.\n",
    "        \n",
    "    Parameters\n",
    "    ----------\n",
    "    causa : string\n",
    "        String con la causa de muerte, a analizar para ver si cumple las condiciones.\n",
    "    \n",
    "    Returns\n",
    "    -------\n",
    "    Un valor boolean indicando si cumple las condiciones (True) o no (False).\n",
    "    \n",
    "    \n",
    "    Example\n",
    "    -------\n",
    "    >>> es_grupo_y_no_total(\"001-008 I.Enfermedades infecciosas y parasitarias\")\n",
    "    True\n",
    "    >>> es_grupo_y_no_total(\"001-102 I-XXII.Todas las causas Mujeres De 10 a 14 años 1983 308\")\n",
    "    False\n",
    "    >>> es_grupo_y_no_total(\"XV.Embarazo\")\n",
    "    False\n",
    "    \"\"\"\n",
    "    \n",
    "    # Definimos nuestras expresiones a reconocer, la primera es una expresión regular que quiere decir:\n",
    "    # 3 dígitos, seguidos por un guión y otros 3 dígitos.\n",
    "\n",
    "    patron = \"\\d{3}-\\d{3}\"\n",
    "    patron2 = \"Todas las causas\"\n",
    "\n",
    "    # Lanzamos un bucle que busca, en primer lugar, si el string comienza con el patrón: \"\\d{3}-\\d{3}\".\n",
    "    # En caso de que lo cumpla, comprueba si el string contiene el string prohibido: \"Todas las causas\".\n",
    "    \n",
    "    if re.match(patron, causa) != None:\n",
    "        \n",
    "        if re.search(patron2, causa) != None:\n",
    "            return(False)\n",
    "    \n",
    "        else:\n",
    "            return(True)\n",
    "\n",
    "    else:\n",
    "        return(False)"
   ]
  },
  {
   "cell_type": "markdown",
   "metadata": {},
   "source": [
    "Podemos realizar comprobaciones de esta función con diferentes strings que podríamos en contrar en la columna \"Causas de muerte\" de nuestro DF:"
   ]
  },
  {
   "cell_type": "code",
   "execution_count": 18,
   "metadata": {},
   "outputs": [
    {
     "name": "stdout",
     "output_type": "stream",
     "text": [
      "009-041  II.Tumores                                                              \t True\n",
      "009  Tumor maligno del esófago                                                   \t False\n",
      "001-102  I-XXII.Todas las causas                                                 \t False\n",
      "077-080  XIV.Enfermedades del sistema genitourinario                             \t True\n",
      "082  XVI.Afecciones originadas en el periodo perinatal                           \t False\n",
      "050-052  VI-VIII.Enfermedades del sistema nervioso y de los órganos de los sentidos \t True\n"
     ]
    }
   ],
   "source": [
    "lista_de_causas = [\n",
    "    \"009-041  II.Tumores\",\n",
    "    \"009  Tumor maligno del esófago\",\n",
    "    \"001-102  I-XXII.Todas las causas\",\n",
    "    \"077-080  XIV.Enfermedades del sistema genitourinario\",\n",
    "    \"082  XVI.Afecciones originadas en el periodo perinatal\",\n",
    "    \"050-052  VI-VIII.Enfermedades del sistema nervioso y de los órganos de los sentidos\"\n",
    "]\n",
    "\n",
    "for causa in lista_de_causas:\n",
    "    print(causa.ljust(80), \"\\t\", es_grupo_y_no_total(causa))"
   ]
  },
  {
   "cell_type": "markdown",
   "metadata": {},
   "source": [
    "Al poner a trabajar esta función con una lista de strings, como por ejemplo, la columna \"Causas de muerte\" de nuestro DataFrame con el que estamos trabajando, podremos elaborar una lista de valores booleanos de la misma longitud que nos permita utilizarla como máscara para filtrar y seleccionar las filas que cumplan la condición. Esto se realizará en el siguiente apartado, por lo que considero que no es necesario realizar más ejemplos de prueba de momento."
   ]
  }
 ],
 "metadata": {
  "kernelspec": {
   "display_name": "Python 3",
   "language": "python",
   "name": "python3"
  },
  "language_info": {
   "codemirror_mode": {
    "name": "ipython",
    "version": 3
   },
   "file_extension": ".py",
   "mimetype": "text/x-python",
   "name": "python",
   "nbconvert_exporter": "python",
   "pygments_lexer": "ipython3",
   "version": "3.8.5"
  }
 },
 "nbformat": 4,
 "nbformat_minor": 4
}
