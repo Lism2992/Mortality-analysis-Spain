{
 "cells": [
  {
   "cell_type": "markdown",
   "metadata": {},
   "source": [
    "## a) Lectura básica del archivo csv\n",
    "\n",
    "En primer lugar vamos a hacer la importación en formato CSV, tras ello se hará en formato Pandas que es el que usaremos a partir de ese momento para gestionar los datos a lo largo del documento."
   ]
  },
  {
   "cell_type": "code",
   "execution_count": 193,
   "metadata": {},
   "outputs": [],
   "source": [
    "import csv\n",
    "\n",
    "def cargar_lineas(nombre, n, m):\n",
    "    \n",
    "    \"\"\"\n",
    "    Función que importa un archivo csv y muestra por pantalla el rango de filas pedidas.\n",
    "    \n",
    "    Parameters\n",
    "    ----------\n",
    "    nombre : str\n",
    "        Nombre del archivo csv a arbir.\n",
    "    n : int\n",
    "        Fila inicial del rango a mostrar. La primera fila corresponde al índice 0.\n",
    "    m: int\n",
    "        Fila final del rango a mostrar.\n",
    "        \n",
    "    Return\n",
    "    ------\n",
    "    lista[array[str, str, str, int, int]]\n",
    "        Una lista compuesta por cada una de las líneas pedidas como arrays.\n",
    "    \n",
    "    Example\n",
    "    -------\n",
    "    >>> cargar_lineas(ine_mortalidad_espanna, 7, 10)\n",
    "    \n",
    "    ['001-102  I-XXII.Todas las causas', 'Total', 'Todas las edades', '2012', '402.950']\n",
    "    ['001-102  I-XXII.Todas las causas', 'Total', 'Todas las edades', '2011', '387.911']\n",
    "    ['001-102  I-XXII.Todas las causas', 'Total', 'Todas las edades', '2010', '382.047']\n",
    "    ['001-102  I-XXII.Todas las causas', 'Total', 'Todas las edades', '2009', '384.933']\n",
    "    \"\"\"\n",
    "\n",
    "    lista_datos = list(csv.reader(open(nombre, \"r\"), delimiter=\";\"))\n",
    "    \n",
    "    # Tenemos que solucionar dos problemillas, el primero es que el delimitador coma del csv al importar lo entiende\n",
    "    # como separador de decimales. Este error ocurre en la varaible Total, que por defecto importa como string. \n",
    "    # Solucionamos el problema sustituyendo los caracteres delimitadores de decimales (. tras la importación)\n",
    "    # por nada y luego casteando el tipo a entero de la siguiente manera:\n",
    "    \n",
    "    for i in range(1,len(lista_datos)):\n",
    "        lista_datos[i][-1] = int(lista_datos[i][-1].replace(\".\", \"\"))\n",
    "        \n",
    "    # El segundo problema es que importa el año como string, pero lo resolvemos facilmente casteandolo como int.\n",
    "\n",
    "    for i in range(1,len(lista_datos)):\n",
    "        lista_datos[i][-2] = int(lista_datos[i][-2])\n",
    "    \n",
    "    # Podemos impedir la muestra del header en este proceso de importación\n",
    "    # sumando 1 a los índices del return. El segundo tiene sumado 2 para incluir esta\n",
    "    # correción y aparte incluir el último término que le pasamos como argumento m.\n",
    "    \n",
    "    return(lista_datos[n+1:m+2])"
   ]
  },
  {
   "cell_type": "markdown",
   "metadata": {},
   "source": [
    "Probamos la función elaborada cargando las filas desde la 7 hasta las 10, las dos incluidas."
   ]
  },
  {
   "cell_type": "code",
   "execution_count": 194,
   "metadata": {},
   "outputs": [
    {
     "name": "stdout",
     "output_type": "stream",
     "text": [
      "['001-102  I-XXII.Todas las causas', 'Total', 'Todas las edades', 2011, 387911]\n",
      "['001-102  I-XXII.Todas las causas', 'Total', 'Todas las edades', 2010, 382047]\n",
      "['001-102  I-XXII.Todas las causas', 'Total', 'Todas las edades', 2009, 384933]\n",
      "['001-102  I-XXII.Todas las causas', 'Total', 'Todas las edades', 2008, 386324]\n"
     ]
    }
   ],
   "source": [
    "mis_datos = cargar_lineas(\"ine_mortalidad_espanna.csv\", 7, 10)\n",
    "\n",
    "for dato in mis_datos:\n",
    "    print(dato)"
   ]
  },
  {
   "cell_type": "markdown",
   "metadata": {},
   "source": [
    "Probamos que los tipos están correctos en las dos varables numéricas probando una de las líneas:"
   ]
  },
  {
   "cell_type": "code",
   "execution_count": 197,
   "metadata": {},
   "outputs": [
    {
     "name": "stdout",
     "output_type": "stream",
     "text": [
      "001-102  I-XXII.Todas las causas <class 'str'>\n",
      "Total <class 'str'>\n",
      "Todas las edades <class 'str'>\n",
      "2008 <class 'int'>\n",
      "386324 <class 'int'>\n"
     ]
    }
   ],
   "source": [
    "for i in range(5):\n",
    "    print(mis_datos[3][i], type(mis_datos[3][i]))\n"
   ]
  },
  {
   "cell_type": "markdown",
   "metadata": {},
   "source": [
    "Podemos realizar el mismo proceso utilizando los DF de Pandas que será el formato que utilizaremos de ahora en adelante en el proyecto."
   ]
  },
  {
   "cell_type": "code",
   "execution_count": 187,
   "metadata": {},
   "outputs": [],
   "source": [
    "import pandas as pd\n",
    "\n",
    "def cargar_lineas_pd(nombre, n, m):\n",
    "    \n",
    "    \"\"\"\n",
    "    Función que importa un archivo csv y muestra por pantalla el rango de filas pedidas.\n",
    "    \n",
    "    Parameters\n",
    "    ----------\n",
    "    nombre : str\n",
    "        Nombre del archivo csv a arbir.\n",
    "    n : int\n",
    "        Fila inicial del rango a mostrar. La primera fila corresponde al índice 0.\n",
    "    m: int\n",
    "        Fila final del rango a mostrar.\n",
    "        \n",
    "    Return\n",
    "    ------\n",
    "    pandas.core.frame.DataFrame (Colección de filas de Pandas DataFrame.)\n",
    "    \n",
    "    \n",
    "    \"\"\"\n",
    "\n",
    "    # En este caso, la importación de la columna Periodo se hace como entero automaticamente, pero debido a los\n",
    "    # delimitadores decimales del csv original, en la columna total nos hace conversiones donde interpreta que\n",
    "    # la coma, en lugar de separar millares es un punto que separa decimales. Mi manera de solucionarlo es la siguiente.\n",
    "    \n",
    "    # Importamos el csv declarando la columna Total como str para que no haga cambios extraños por su cuenta.\n",
    "    \n",
    "    DF = pd.read_csv(nombre, delimiter = \";\",dtype = {\"Total\": str})\n",
    "    \n",
    "    # Ahora estamos en la situación del apartado anterior y podemos tomar medidas equivalentes.\n",
    "    # Podemos actuar sobre todos los valores de determinadas columnas.\n",
    "    # Reemplazamos las apariciones de \".\" por nada utilizando expresiones regulares.\n",
    "    \n",
    "    DF[\"Total\"] = DF[\"Total\"].replace(regex=[\"\\.\"],value=\"\")\n",
    "    \n",
    "    # Tras ello, casteamos la columna objetivo como enteros y el resto como sus tipos deseados.\n",
    "    \n",
    "    DF = DF.astype({\"Causa de muerte\":\"string\", \"Sexo\":\"string\", \"Edad\":\"string\", \"Periodo\":\"int32\",\"Total\": \"int64\"})\n",
    "    \n",
    "        \n",
    "    return(DF[n:m+1])"
   ]
  },
  {
   "cell_type": "code",
   "execution_count": 188,
   "metadata": {
    "scrolled": true
   },
   "outputs": [],
   "source": [
    "datos = cargar_lineas_pd(\"ine_mortalidad_espanna.csv\", 7, 10)"
   ]
  },
  {
   "cell_type": "markdown",
   "metadata": {},
   "source": [
    "Podemos ver el tipo de objeto devuelto por la función y comprobar que es un DF:"
   ]
  },
  {
   "cell_type": "code",
   "execution_count": 192,
   "metadata": {},
   "outputs": [
    {
     "data": {
      "text/plain": [
       "pandas.core.frame.DataFrame"
      ]
     },
     "execution_count": 192,
     "metadata": {},
     "output_type": "execute_result"
    }
   ],
   "source": [
    "type(datos)"
   ]
  },
  {
   "cell_type": "markdown",
   "metadata": {},
   "source": [
    "Hacemos una preview de las filas deseadas:"
   ]
  },
  {
   "cell_type": "code",
   "execution_count": 189,
   "metadata": {
    "scrolled": false
   },
   "outputs": [
    {
     "data": {
      "text/html": [
       "<div>\n",
       "<style scoped>\n",
       "    .dataframe tbody tr th:only-of-type {\n",
       "        vertical-align: middle;\n",
       "    }\n",
       "\n",
       "    .dataframe tbody tr th {\n",
       "        vertical-align: top;\n",
       "    }\n",
       "\n",
       "    .dataframe thead th {\n",
       "        text-align: right;\n",
       "    }\n",
       "</style>\n",
       "<table border=\"1\" class=\"dataframe\">\n",
       "  <thead>\n",
       "    <tr style=\"text-align: right;\">\n",
       "      <th></th>\n",
       "      <th>Causa de muerte</th>\n",
       "      <th>Sexo</th>\n",
       "      <th>Edad</th>\n",
       "      <th>Periodo</th>\n",
       "      <th>Total</th>\n",
       "    </tr>\n",
       "  </thead>\n",
       "  <tbody>\n",
       "    <tr>\n",
       "      <th>7</th>\n",
       "      <td>001-102  I-XXII.Todas las causas</td>\n",
       "      <td>Total</td>\n",
       "      <td>Todas las edades</td>\n",
       "      <td>2011</td>\n",
       "      <td>387911</td>\n",
       "    </tr>\n",
       "    <tr>\n",
       "      <th>8</th>\n",
       "      <td>001-102  I-XXII.Todas las causas</td>\n",
       "      <td>Total</td>\n",
       "      <td>Todas las edades</td>\n",
       "      <td>2010</td>\n",
       "      <td>382047</td>\n",
       "    </tr>\n",
       "    <tr>\n",
       "      <th>9</th>\n",
       "      <td>001-102  I-XXII.Todas las causas</td>\n",
       "      <td>Total</td>\n",
       "      <td>Todas las edades</td>\n",
       "      <td>2009</td>\n",
       "      <td>384933</td>\n",
       "    </tr>\n",
       "    <tr>\n",
       "      <th>10</th>\n",
       "      <td>001-102  I-XXII.Todas las causas</td>\n",
       "      <td>Total</td>\n",
       "      <td>Todas las edades</td>\n",
       "      <td>2008</td>\n",
       "      <td>386324</td>\n",
       "    </tr>\n",
       "  </tbody>\n",
       "</table>\n",
       "</div>"
      ],
      "text/plain": [
       "                     Causa de muerte   Sexo              Edad  Periodo   Total\n",
       "7   001-102  I-XXII.Todas las causas  Total  Todas las edades     2011  387911\n",
       "8   001-102  I-XXII.Todas las causas  Total  Todas las edades     2010  382047\n",
       "9   001-102  I-XXII.Todas las causas  Total  Todas las edades     2009  384933\n",
       "10  001-102  I-XXII.Todas las causas  Total  Todas las edades     2008  386324"
      ]
     },
     "execution_count": 189,
     "metadata": {},
     "output_type": "execute_result"
    }
   ],
   "source": [
    "datos"
   ]
  },
  {
   "cell_type": "markdown",
   "metadata": {},
   "source": [
    "Y comprobamos tipos:"
   ]
  },
  {
   "cell_type": "code",
   "execution_count": 190,
   "metadata": {},
   "outputs": [
    {
     "data": {
      "text/plain": [
       "Causa de muerte    string\n",
       "Sexo               string\n",
       "Edad               string\n",
       "Periodo             int32\n",
       "Total               int64\n",
       "dtype: object"
      ]
     },
     "execution_count": 190,
     "metadata": {},
     "output_type": "execute_result"
    }
   ],
   "source": [
    "datos.dtypes"
   ]
  },
  {
   "cell_type": "markdown",
   "metadata": {},
   "source": [
    "Podemos mostrar por pantalla los datos devueltos por la función de csv.reader para ver que a los mismos argumentos les corresponden la misma salida:"
   ]
  },
  {
   "cell_type": "code",
   "execution_count": 198,
   "metadata": {},
   "outputs": [
    {
     "name": "stdout",
     "output_type": "stream",
     "text": [
      "['001-102  I-XXII.Todas las causas', 'Total', 'Todas las edades', 2011, 387911]\n",
      "['001-102  I-XXII.Todas las causas', 'Total', 'Todas las edades', 2010, 382047]\n",
      "['001-102  I-XXII.Todas las causas', 'Total', 'Todas las edades', 2009, 384933]\n",
      "['001-102  I-XXII.Todas las causas', 'Total', 'Todas las edades', 2008, 386324]\n"
     ]
    }
   ],
   "source": [
    "mis_datos = cargar_lineas(\"ine_mortalidad_espanna.csv\", 7, 10)\n",
    "\n",
    "for dato in mis_datos:\n",
    "    print(dato)"
   ]
  },
  {
   "cell_type": "markdown",
   "metadata": {},
   "source": [
    "# Líneas de código de pruebas"
   ]
  },
  {
   "cell_type": "code",
   "execution_count": 155,
   "metadata": {},
   "outputs": [],
   "source": [
    "#DF = pd.read_csv(\"ine_mortalidad_espanna.csv\", delimiter = \";\",dtype = {'Total': str})"
   ]
  },
  {
   "cell_type": "code",
   "execution_count": 141,
   "metadata": {},
   "outputs": [
    {
     "data": {
      "text/plain": [
       "str"
      ]
     },
     "execution_count": 141,
     "metadata": {},
     "output_type": "execute_result"
    }
   ],
   "source": [
    "#type(DF.iloc[3,-1])"
   ]
  },
  {
   "cell_type": "code",
   "execution_count": 156,
   "metadata": {},
   "outputs": [
    {
     "data": {
      "text/plain": [
       "0         427721\n",
       "1         424523\n",
       "2         410611\n",
       "3         422568\n",
       "4         395830\n",
       "           ...  \n",
       "301153         0\n",
       "301154         0\n",
       "301155         0\n",
       "301156         0\n",
       "301157         0\n",
       "Name: Total, Length: 301158, dtype: object"
      ]
     },
     "execution_count": 156,
     "metadata": {},
     "output_type": "execute_result"
    }
   ],
   "source": [
    "#DF[\"Total\"] = DF[\"Total\"].replace(regex=[\"\\.\"],value=\"\")\n",
    "#DF[\"Total\"]"
   ]
  },
  {
   "cell_type": "code",
   "execution_count": 158,
   "metadata": {},
   "outputs": [],
   "source": [
    "#DF2 = DF.astype({'Total': 'int32'}).dtypes"
   ]
  },
  {
   "cell_type": "code",
   "execution_count": 160,
   "metadata": {},
   "outputs": [
    {
     "data": {
      "text/plain": [
       "dtype('int32')"
      ]
     },
     "execution_count": 160,
     "metadata": {},
     "output_type": "execute_result"
    }
   ],
   "source": [
    "#DF2[\"Total\"]"
   ]
  },
  {
   "cell_type": "code",
   "execution_count": 97,
   "metadata": {},
   "outputs": [
    {
     "data": {
      "text/plain": [
       "'422.568'"
      ]
     },
     "execution_count": 97,
     "metadata": {},
     "output_type": "execute_result"
    }
   ],
   "source": [
    "#DF.iloc[3,-1]"
   ]
  },
  {
   "cell_type": "code",
   "execution_count": 82,
   "metadata": {},
   "outputs": [
    {
     "data": {
      "text/plain": [
       "int"
      ]
     },
     "execution_count": 82,
     "metadata": {},
     "output_type": "execute_result"
    }
   ],
   "source": [
    "#type((DF.iloc[50,-1]))"
   ]
  }
 ],
 "metadata": {
  "kernelspec": {
   "display_name": "Python 3",
   "language": "python",
   "name": "python3"
  },
  "language_info": {
   "codemirror_mode": {
    "name": "ipython",
    "version": 3
   },
   "file_extension": ".py",
   "mimetype": "text/x-python",
   "name": "python",
   "nbconvert_exporter": "python",
   "pygments_lexer": "ipython3",
   "version": "3.8.5"
  }
 },
 "nbformat": 4,
 "nbformat_minor": 4
}
